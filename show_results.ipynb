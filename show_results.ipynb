{
 "cells": [
  {
   "cell_type": "markdown",
   "metadata": {},
   "source": [
    "##### After running run_st.py you should be able to run the code in this notebook"
   ]
  },
  {
   "cell_type": "code",
   "execution_count": null,
   "metadata": {},
   "outputs": [],
   "source": [
    "import os\n",
    "import pickle\n",
    "import numpy as np"
   ]
  },
  {
   "cell_type": "code",
   "execution_count": null,
   "metadata": {},
   "outputs": [],
   "source": [
    "results_dir = 'all_results'"
   ]
  },
  {
   "cell_type": "code",
   "execution_count": null,
   "metadata": {},
   "outputs": [],
   "source": [
    "os.listdir(results_dir)"
   ]
  },
  {
   "cell_type": "markdown",
   "metadata": {},
   "source": [
    "# Variable Threshold Averaged Loss"
   ]
  },
  {
   "cell_type": "code",
   "execution_count": null,
   "metadata": {},
   "outputs": [],
   "source": [
    "experiment_dir = 'differences@variable_thresh~True@'\n",
    "variable_thresh_dir = os.path.join(results_dir, experiment_dir)\n",
    "with open(os.path.join(variable_thresh_dir, 'all_losses.pickle'), 'rb') as f:\n",
    "    all_losses = pickle.load(f)"
   ]
  },
  {
   "cell_type": "code",
   "execution_count": null,
   "metadata": {},
   "outputs": [],
   "source": [
    "# all_losses.pickle contains a list with one element per seed (i.e. 10)\n",
    "print(len(all_losses))"
   ]
  },
  {
   "cell_type": "code",
   "execution_count": null,
   "metadata": {},
   "outputs": [],
   "source": [
    "# Each list element is itself a list of length 3\n",
    "print(len(all_losses[0]))\n",
    "\n",
    "# These three elements correspond to the train, validation, and test\n",
    "# losses achieved during the batch when validation loss was lowest."
   ]
  },
  {
   "cell_type": "code",
   "execution_count": null,
   "metadata": {},
   "outputs": [],
   "source": [
    "# Thus we can compute test loss average across the 10 seeds as follows:\n",
    "test_losses = np.stack([seed_loss[2] for seed_loss in all_losses], axis=0)\n",
    "loss_values = np.mean(test_losses, axis=0) # here we are averaging across the 10 seeds"
   ]
  },
  {
   "cell_type": "code",
   "execution_count": null,
   "metadata": {},
   "outputs": [],
   "source": [
    "loss_names = ['weighted average of NLK and MSE:',\n",
    "'negative log-likelihood:',\n",
    "'MSE of point predictions:',\n",
    "'brier score of 0 rainfall class:',\n",
    "'brier score for non-zero non-excess class:',\n",
    "'brier score for excess class:',\n",
    "'accuracy:',\n",
    "'f1 micro of all classes:',\n",
    "'f1 macro of all classes:',\n",
    "'auc macro one versus one:',\n",
    "'auc macro one versus all:']\n",
    "\n",
    "for a in zip(loss_names, loss_values):\n",
    "    print(a)"
   ]
  },
  {
   "cell_type": "code",
   "execution_count": null,
   "metadata": {},
   "outputs": [],
   "source": [
    "def print_avg_loss(directory):\n",
    "    with open(os.path.join(directory, 'all_losses.pickle'), 'rb') as f:\n",
    "        all_losses = pickle.load(f)\n",
    "    test_losses = np.stack([seed_loss[2] for seed_loss in all_losses], axis=0)\n",
    "    loss_values = np.mean(test_losses, axis=0)\n",
    "    for a in zip(loss_names, loss_values):\n",
    "        print(a)"
   ]
  },
  {
   "cell_type": "markdown",
   "metadata": {},
   "source": [
    "# Fixed Threshold Loss"
   ]
  },
  {
   "cell_type": "code",
   "execution_count": null,
   "metadata": {},
   "outputs": [],
   "source": [
    "fixed_thresh_dir = os.path.join(results_dir, 'differences@mean_multiplier~0.016666666666666666@nonlin~tanh@')\n",
    "print_avg_loss(fixed_thresh_dir)"
   ]
  },
  {
   "cell_type": "markdown",
   "metadata": {},
   "source": [
    "# Hurdle Model"
   ]
  },
  {
   "cell_type": "code",
   "execution_count": null,
   "metadata": {},
   "outputs": [],
   "source": [
    "hurdle_dir = os.path.join(results_dir, 'differences@lr~0.0031622776601683794@mean_multiplier~0.016666666666666666@nonlin~tanh@use_evt~False@')\n",
    "print_avg_loss(fixed_thresh_dir)"
   ]
  },
  {
   "cell_type": "markdown",
   "metadata": {},
   "source": [
    "# Other Useful Saved Data"
   ]
  },
  {
   "cell_type": "code",
   "execution_count": null,
   "metadata": {},
   "outputs": [],
   "source": [
    "# A separate pickle file is saved for each seed. Here's the files for the variable threshold model\n",
    "all_files = os.listdir(variable_thresh_dir)\n",
    "print(all_files)"
   ]
  },
  {
   "cell_type": "code",
   "execution_count": null,
   "metadata": {},
   "outputs": [],
   "source": [
    "# These files can be loaded\n",
    "fname = list(filter(lambda x:'0-' in x, all_files))[0] # Gets the saved experiment file for seed 0\n",
    "with open(os.path.join(variable_thresh_dir,  '0-164104019.pickle'), 'rb') as f:\n",
    "    exp = pickle.load(f)\n",
    "    \n",
    "# These experiment files contain a lot of information but the most important is probably:\n",
    "# the train, validation, and test losses achieved when validation loss was minimized\n",
    "print(exp.best_test_loss)\n",
    "# the train, validation, and test predictions achieved when validation loss was minimized\n",
    "print(exp.best_test_pred.shape)"
   ]
  }
 ],
 "metadata": {
  "kernelspec": {
   "display_name": "Python 3",
   "language": "python",
   "name": "old_python3"
  },
  "language_info": {
   "codemirror_mode": {
    "name": "ipython",
    "version": 3
   },
   "file_extension": ".py",
   "mimetype": "text/x-python",
   "name": "python",
   "nbconvert_exporter": "python",
   "pygments_lexer": "ipython3"
  }
 },
 "nbformat": 4,
 "nbformat_minor": 4
}
