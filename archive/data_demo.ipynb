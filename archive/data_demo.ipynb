{
 "cells": [
  {
   "cell_type": "code",
   "execution_count": null,
   "metadata": {},
   "outputs": [],
   "source": [
    "import pickle\n",
    "import numpy as np\n",
    "import pandas as pd"
   ]
  },
  {
   "cell_type": "code",
   "execution_count": 7,
   "metadata": {},
   "outputs": [],
   "source": [
    "# First load dictionary with all data\n",
    "with open('../data/subx_all_data.pickle', 'rb') as f:\n",
    "    data = pickle.load(f)"
   ]
  },
  {
   "cell_type": "code",
   "execution_count": 8,
   "metadata": {},
   "outputs": [
    {
     "name": "stdout",
     "output_type": "stream",
     "text": [
      "dict_keys(['rand_inds', 'y', 'x'])\n",
      "x shape:  (939, 11, 7, 29, 59)\n",
      "y shape:  (939, 1, 29, 59)\n",
      "Ensemble mean error:  15.622858\n"
     ]
    }
   ],
   "source": [
    "# print keys\n",
    "print(data.keys())\n",
    "\n",
    "x, y, rand_inds = data['x'], data['y'], data['rand_inds']\n",
    "\n",
    "'''\n",
    "X is the 3 day (overlapping) average ensemble rainfall predictions.\n",
    "Before use w/ proposed method I computed its log+1 transform (i.e. x = log(1 + x) )\n",
    "and also standardized. The data in the pickle has not been log-transformed or standardized.\n",
    "Dimensions of x are:\n",
    "    # of weekly model simulations (939)\n",
    "    # of models in ensemble (11)\n",
    "    numerical model rainfall predictions for 7 day averages\n",
    "    spatial height (29)\n",
    "    spatial width (59)\n",
    "'''\n",
    "print('x shape: ', x.shape)\n",
    "\n",
    "'''\n",
    "Y is the observed 3 day average rainfall 10 days in advance.\n",
    "No further transformations were made before use w/ proposed method.\n",
    "Dimensions of y are:\n",
    "    # of weekly model simulations (939)\n",
    "    ignore this axis\n",
    "    spatial height (29)\n",
    "    spatial width (59)\n",
    "'''\n",
    "print('y shape: ', y.shape)\n",
    "\n",
    "\n",
    "# Compute ensemble mean\n",
    "ens_mean = np.nanmean(x[:, :, -1], axis=1)\n",
    "# Print MSE of ensemble mean\n",
    "print('Ensemble mean error: ', np.nanmean(np.square(ens_mean - y[:, 0])))"
   ]
  },
  {
   "cell_type": "code",
   "execution_count": 9,
   "metadata": {},
   "outputs": [],
   "source": [
    "# Randomly shuffle x and y according to the 4th seed\n",
    "seed = 4\n",
    "shuffled_x = x[rand_inds[:, seed]]\n",
    "shuffled_y = y[rand_inds[:, seed]]"
   ]
  },
  {
   "cell_type": "code",
   "execution_count": 10,
   "metadata": {
    "pycharm": {
     "name": "#%%\n"
    }
   },
   "outputs": [
    {
     "name": "stdout",
     "output_type": "stream",
     "text": [
      "training data:  (450, 11, 7, 29, 59) (450, 1, 29, 59)\n",
      "validation data:  (250, 11, 7, 29, 59) (250, 1, 29, 59)\n",
      "testing data:  (239, 11, 7, 29, 59) (239, 1, 29, 59)\n"
     ]
    }
   ],
   "source": [
    "# Divide into train, validation and test sets\n",
    "train_size = 450\n",
    "val_size = 250\n",
    "test_size = shuffled_x.shape[0] - train_size - val_size\n",
    "x_train, x_val, x_test = shuffled_x[:train_size], shuffled_x[train_size:train_size + val_size], shuffled_x[-test_size:]\n",
    "y_train, y_val, y_test = shuffled_y[:train_size], shuffled_y[train_size:train_size + val_size], shuffled_y[-test_size:]\n",
    "\n",
    "\n",
    "print('training data: ', x_train.shape, y_train.shape)\n",
    "print('validation data: ', x_val.shape, y_val.shape)\n",
    "print('testing data: ', x_test.shape, y_test.shape)"
   ]
  },
  {
   "cell_type": "code",
   "execution_count": 12,
   "metadata": {},
   "outputs": [
    {
     "data": {
      "text/plain": "                   0\ncount  221356.000000\nmean        2.054091\nstd         4.032431\nmin         0.000000\n25%         0.008871\n50%         0.417186\n75%         2.333072\nmax       125.454285",
      "text/html": "<div>\n<style scoped>\n    .dataframe tbody tr th:only-of-type {\n        vertical-align: middle;\n    }\n\n    .dataframe tbody tr th {\n        vertical-align: top;\n    }\n\n    .dataframe thead th {\n        text-align: right;\n    }\n</style>\n<table border=\"1\" class=\"dataframe\">\n  <thead>\n    <tr style=\"text-align: right;\">\n      <th></th>\n      <th>0</th>\n    </tr>\n  </thead>\n  <tbody>\n    <tr>\n      <th>count</th>\n      <td>221356.000000</td>\n    </tr>\n    <tr>\n      <th>mean</th>\n      <td>2.054091</td>\n    </tr>\n    <tr>\n      <th>std</th>\n      <td>4.032431</td>\n    </tr>\n    <tr>\n      <th>min</th>\n      <td>0.000000</td>\n    </tr>\n    <tr>\n      <th>25%</th>\n      <td>0.008871</td>\n    </tr>\n    <tr>\n      <th>50%</th>\n      <td>0.417186</td>\n    </tr>\n    <tr>\n      <th>75%</th>\n      <td>2.333072</td>\n    </tr>\n    <tr>\n      <th>max</th>\n      <td>125.454285</td>\n    </tr>\n  </tbody>\n</table>\n</div>"
     },
     "execution_count": 12,
     "metadata": {},
     "output_type": "execute_result"
    }
   ],
   "source": [
    "df = pd.DataFrame(y_test.flatten())\n",
    "df.describe()"
   ]
  }
 ],
 "metadata": {
  "kernelspec": {
   "display_name": "Python 3 (ipykernel)",
   "language": "python",
   "name": "python3"
  },
  "language_info": {
   "codemirror_mode": {
    "name": "ipython",
    "version": 3
   },
   "file_extension": ".py",
   "mimetype": "text/x-python",
   "name": "python",
   "nbconvert_exporter": "python",
   "pygments_lexer": "ipython3",
   "version": "3.9.7"
  }
 },
 "nbformat": 4,
 "nbformat_minor": 4
}